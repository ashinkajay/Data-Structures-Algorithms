{
 "cells": [
  {
   "cell_type": "code",
   "execution_count": 8,
   "id": "b2692ff6",
   "metadata": {},
   "outputs": [
    {
     "name": "stdout",
     "output_type": "stream",
     "text": [
      "Enter postfix expression separated by commas: 2,3,+,4,*\n",
      "20\n"
     ]
    }
   ],
   "source": [
    "class Stack:\n",
    "    def __init__(self,size):\n",
    "      self.stack = []\n",
    "      self.size = size\n",
    "    def push(self, element):\n",
    "        if self.size==len(self.stack):\n",
    "           print(\"Overflow\")\n",
    "        else:\n",
    "            self.stack.append(element)\n",
    "    def isempty(self):\n",
    "        if len(self.stack)==0:\n",
    "            return True\n",
    "        else:\n",
    "            return False\n",
    "    def pop(self):\n",
    "        if len(self.stack) > 0:\n",
    "            element = self.stack.pop()\n",
    "            return element\n",
    "        else:\n",
    "            print(\"Underflow\")\n",
    "            return False\n",
    "    def length(self):\n",
    "        return len(self.stack)\n",
    "    def top(self):\n",
    "        length=len(self.stack)\n",
    "        if length==0:\n",
    "            print(\"Stack is empty\")\n",
    "            return None\n",
    "        else:\n",
    "            return self.stack[length-1]\n",
    "\n",
    "stack=Stack(50)\n",
    "exp=input(\"Enter postfix expression separated by commas: \").split(\",\")\n",
    "for x in exp:\n",
    "    if x=='+' or x=='-' or x=='*' or x=='/' :\n",
    "        a=str(stack.pop())\n",
    "        b=str(stack.pop())\n",
    "        temp_exp = b + str(x) + a\n",
    "        value = eval(temp_exp)\n",
    "        stack.push(value)\n",
    "    else:\n",
    "        stack.push(x)\n",
    "print(stack.top())\n"
   ]
  }
 ],
 "metadata": {
  "kernelspec": {
   "display_name": "Python 3 (ipykernel)",
   "language": "python",
   "name": "python3"
  },
  "language_info": {
   "codemirror_mode": {
    "name": "ipython",
    "version": 3
   },
   "file_extension": ".py",
   "mimetype": "text/x-python",
   "name": "python",
   "nbconvert_exporter": "python",
   "pygments_lexer": "ipython3",
   "version": "3.8.8"
  }
 },
 "nbformat": 4,
 "nbformat_minor": 5
}
