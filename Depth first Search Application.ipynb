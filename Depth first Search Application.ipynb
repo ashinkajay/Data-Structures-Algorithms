{
 "cells": [
  {
   "cell_type": "markdown",
   "id": "603c0776",
   "metadata": {},
   "source": [
    "### Depth first Search Application"
   ]
  },
  {
   "cell_type": "raw",
   "id": "4b37c36c",
   "metadata": {},
   "source": [
    "Example question taken  Geekforgeeks.com\n",
    "\n",
    "Every house in the colony has at most one pipe going into it and at most one pipe going out of it. Tanks and taps are to be installed in a manner such that every house with one outgoing pipe but no incoming pipe gets a tank installed on its roof and every house with only an incoming pipe and no outgoing pipe gets a tap.’ \n",
    "Given two integers n and p denoting the number of houses and the number of pipes. The connections of pipe among the houses contain three input values: a_i, b_i, d_i denoting the pipe of diameter d_i from house a_i to house b_i, find out the efficient solution for the network. \n",
    "The output will contain the number of pairs of tanks and taps t installed in first line and the next t lines contain three integers: house number of tank, house number of tap and the minimum diameter of pipe between them.\n",
    "\n",
    "Examples: \n",
    "n = 7\n",
    "p = 4\n",
    "Sample input\n",
    "7, 4, 98\n",
    "5, 9, 72\n",
    "4, 6, 10 \n",
    "2, 8, 22 \n",
    "Output\n",
    "3\n",
    "2 8 22\n",
    "5 9 72\n",
    "7 6 10 "
   ]
  },
  {
   "cell_type": "code",
   "execution_count": 1,
   "id": "d3437811",
   "metadata": {},
   "outputs": [],
   "source": [
    "from collections import defaultdict\n",
    "\n",
    "class Graph:\n",
    "    def __init__(self):\n",
    "        self.graph = defaultdict(list)\n",
    "        self.graph2 = defaultdict(list)\n",
    "    def addedge(self,k,v,dia):\n",
    "        self.graph[k].append((v,dia))\n",
    "        self.graph2[k].append((v,dia))\n",
    "        self.graph2[v].append((k,dia))\n",
    "        \n",
    "    # Depth first search for unidirectional graph\n",
    "    def dfs(self,start):\n",
    "        visited = set()\n",
    "        stack = [start]\n",
    "        while len(stack) > 0:\n",
    "            s = stack.pop()\n",
    "            if s not in visited:\n",
    "                print(s,end=\" \")\n",
    "                visited.add(s)\n",
    "                for neighbour in self.graph[s]:\n",
    "                    if neighbour[0] not in visited:\n",
    "                        stack.append(neighbour[0])\n",
    "    #dfs for bidirectional graph\n",
    "    def dfs2(self,start):\n",
    "        visited = set()\n",
    "        stack = [start]\n",
    "        while len(stack) > 0:\n",
    "            s = stack.pop()\n",
    "            if s not in visited and s != None:\n",
    "                visited.add(s)\n",
    "                for neighbour in self.graph2[s]:\n",
    "                    if neighbour[0] not in visited:\n",
    "                        stack.append(neighbour[0])\n",
    "        return visited\n",
    "    #group graphs\n",
    "    def group(self):\n",
    "        keysgrouped = list()\n",
    "        keys_temp = set(self.graph2.keys())\n",
    "        while keys_temp != set():\n",
    "            s = set(self.dfs2(keys_temp.pop()))\n",
    "            keysgrouped.append(s)\n",
    "            keys_temp.difference_update(s)\n",
    "        keys = set(self.graph.keys())\n",
    "        values = set()\n",
    "        for x in self.graph.values():\n",
    "            for item in x:\n",
    "                values.add(item[0])\n",
    "        print(len(keysgrouped))\n",
    "        for g in keysgrouped:\n",
    "            start = g.difference(values).pop()\n",
    "            end = g.difference(keys).pop()\n",
    "            minimum = float('inf')\n",
    "            for x in g:\n",
    "                for y in self.graph2[x]:\n",
    "                    if minimum > y[1]:\n",
    "                        minimum = y[1]\n",
    "            print(start,end,minimum)"
   ]
  },
  {
   "cell_type": "code",
   "execution_count": 2,
   "id": "6f680e44",
   "metadata": {},
   "outputs": [
    {
     "name": "stdout",
     "output_type": "stream",
     "text": [
      "3\n",
      "2 8 22\n",
      "7 6 10\n",
      "5 9 72\n"
     ]
    }
   ],
   "source": [
    "n = 7\n",
    "p = 4\n",
    "g = Graph()\n",
    "g.addedge(7,4,98)\n",
    "g.addedge(5,9,72)\n",
    "g.addedge(4,6,10)\n",
    "g.addedge(2,8,22)\n",
    "g.group()"
   ]
  },
  {
   "cell_type": "code",
   "execution_count": null,
   "id": "f3a43f65",
   "metadata": {},
   "outputs": [],
   "source": []
  }
 ],
 "metadata": {
  "kernelspec": {
   "display_name": "Python 3 (ipykernel)",
   "language": "python",
   "name": "python3"
  },
  "language_info": {
   "codemirror_mode": {
    "name": "ipython",
    "version": 3
   },
   "file_extension": ".py",
   "mimetype": "text/x-python",
   "name": "python",
   "nbconvert_exporter": "python",
   "pygments_lexer": "ipython3",
   "version": "3.8.8"
  }
 },
 "nbformat": 4,
 "nbformat_minor": 5
}
