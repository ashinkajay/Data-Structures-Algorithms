{
 "cells": [
  {
   "cell_type": "code",
   "execution_count": 1,
   "id": "6e947551",
   "metadata": {},
   "outputs": [],
   "source": [
    "class Queue:\n",
    "    def __init__(self,size):\n",
    "      self.Queue = []\n",
    "      self.size = size\n",
    "    def enqueue(self, element):\n",
    "        if self.size==len(self.Queue):\n",
    "           print(\"Overflow\")\n",
    "        else:\n",
    "            self.Queue.append(element)\n",
    "    def isempty(self):\n",
    "        if len(self.Queue)==0:\n",
    "            return True\n",
    "        else:\n",
    "            return False\n",
    "    def dequeue(self):\n",
    "        if len(self.Queue) > 0:\n",
    "            element = self.Queue.pop(0)\n",
    "            return element\n",
    "        else:\n",
    "            print(\"Underflow\")\n",
    "            return False\n",
    "    def length(self):\n",
    "        return len(self.Queue)\n",
    "    def front(self):\n",
    "        length=len(self.Queue)\n",
    "        if length==0:\n",
    "            print(\"Queue is empty\")\n",
    "            return None\n",
    "        else:\n",
    "            return self.Queue[0]\n"
   ]
  },
  {
   "cell_type": "code",
   "execution_count": 2,
   "id": "ba0e5452",
   "metadata": {},
   "outputs": [
    {
     "name": "stdout",
     "output_type": "stream",
     "text": [
      "Front element is 1\n"
     ]
    }
   ],
   "source": [
    "x = Queue(3)\n",
    "x.enqueue(1)\n",
    "x.enqueue(2)\n",
    "x.enqueue(3)\n",
    "print(\"Front element is\",x.front())"
   ]
  }
 ],
 "metadata": {
  "kernelspec": {
   "display_name": "Python 3 (ipykernel)",
   "language": "python",
   "name": "python3"
  },
  "language_info": {
   "codemirror_mode": {
    "name": "ipython",
    "version": 3
   },
   "file_extension": ".py",
   "mimetype": "text/x-python",
   "name": "python",
   "nbconvert_exporter": "python",
   "pygments_lexer": "ipython3",
   "version": "3.8.8"
  }
 },
 "nbformat": 4,
 "nbformat_minor": 5
}
