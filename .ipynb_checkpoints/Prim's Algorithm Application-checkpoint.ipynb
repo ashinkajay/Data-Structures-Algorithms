{
 "cells": [
  {
   "cell_type": "markdown",
   "id": "f3fa6790",
   "metadata": {},
   "source": [
    "\n",
    "### Prim's Algorithm Application (Example City Planning)"
   ]
  },
  {
   "cell_type": "raw",
   "id": "5d218913",
   "metadata": {},
   "source": [
    "Example question taken from Geekforgeeks.com\n",
    "\n",
    "Once upon a time there was a city that had no roads. Getting around the city was particularly difficult after rainstorms because the ground became very muddy cars got stuck in the mud and people got their boots dirty. The mayor of the city decided that some of the streets must be paved but didn’t want to spend more money than necessary because the city also wanted to build a swimming pool. The mayor therefore specified two conditions: \n",
    "1. Enough streets must be paved so that it is possible for everyone to travel from their house to anyone else’s house only along paved roads, and\n",
    "2. The paving should cost as little as possible.\n",
    "Layout of the city is represented in the form of a graph. The number of paving stones between each house represents the cost of paving that route. Find the best route that connects all the houses but uses as few counters (paving stones) as possible.\n",
    "\n",
    "Sample input:\n",
    "[0, 2, 0, 6, 0],\n",
    "[2, 0, 3, 8, 5],\n",
    "[0, 3, 0, 0, 7],\n",
    "[6, 8, 0, 0, 9],\n",
    "[0, 5, 7, 9, 0]\n",
    "Sample output:\n",
    "Edge Weight\n",
    "0 - 1 2\n",
    "1 - 2 3\n",
    "1 - 4 5\n",
    "0 - 3 6\n"
   ]
  },
  {
   "cell_type": "code",
   "execution_count": 1,
   "id": "a8a6740e",
   "metadata": {},
   "outputs": [],
   "source": [
    "# This code considers the index value of matrix as building 1 and building 2. Value greater than 0 as given distance\n",
    "from collections import defaultdict\n",
    "class Graph():\n",
    "    def __init__(self):\n",
    "        self.graph = defaultdict(list)\n",
    "    # add key-value pair to the dict, where key= building 1, value = (building, distance)\n",
    "    def addedge(self,matrix):\n",
    "        for i in range(len(matrix)):\n",
    "            for j in range(len(matrix)):\n",
    "                if matrix[i][j] > 0:\n",
    "                    self.graph[i].append((j,matrix[i][j]))\n",
    "    # Run prim's algorithm adds edge weight & distance to a result list\n",
    "    def mst(self):\n",
    "        connected = set() # Maintains a set of connected buildings\n",
    "        result = list() # stores lists, each list is of form [source,destination,distance]\n",
    "        connected.add(0)\n",
    "        for i in range(len(self.graph)-1):\n",
    "            min = [float('inf'),float('inf'),float('inf')] #source - destination - value\n",
    "            for source in connected:\n",
    "                for dest,val in self.graph[source]:\n",
    "                    if val < min[2] and dest not in connected:\n",
    "                        min = [source, dest, val]\n",
    "            result.append(min)\n",
    "            connected.add(min[1])\n",
    "        # printing output\n",
    "        print(\"Edge Weight\")\n",
    "        for item in result:\n",
    "            print(item[0],\"-\",item[1], item[2])"
   ]
  },
  {
   "cell_type": "code",
   "execution_count": 2,
   "id": "5dc44b87",
   "metadata": {},
   "outputs": [
    {
     "name": "stdout",
     "output_type": "stream",
     "text": [
      "Edge Weight\n",
      "0 - 1 2\n",
      "1 - 2 3\n",
      "1 - 4 5\n",
      "0 - 3 6\n"
     ]
    }
   ],
   "source": [
    "g = Graph()\n",
    "matrix  =  [[0, 2, 0, 6, 0],\n",
    "            [2, 0, 3, 8, 5],\n",
    "            [0, 3, 0, 0, 7],\n",
    "            [6, 8, 0, 0, 9],\n",
    "            [0, 5, 7, 9, 0]]\n",
    "g.addedge(matrix)\n",
    "g.mst()"
   ]
  }
 ],
 "metadata": {
  "kernelspec": {
   "display_name": "Python 3 (ipykernel)",
   "language": "python",
   "name": "python3"
  },
  "language_info": {
   "codemirror_mode": {
    "name": "ipython",
    "version": 3
   },
   "file_extension": ".py",
   "mimetype": "text/x-python",
   "name": "python",
   "nbconvert_exporter": "python",
   "pygments_lexer": "ipython3",
   "version": "3.8.8"
  }
 },
 "nbformat": 4,
 "nbformat_minor": 5
}
