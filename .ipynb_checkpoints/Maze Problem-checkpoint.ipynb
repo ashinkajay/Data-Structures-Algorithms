{
 "cells": [
  {
   "cell_type": "markdown",
   "metadata": {
    "id": "Z4GeQSInZUDH"
   },
   "source": [
    "Maze Construction"
   ]
  },
  {
   "cell_type": "markdown",
   "metadata": {
    "id": "shiLeTnFWh51"
   },
   "source": [
    "![Maze1.png](data:image/png;base64,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)"
   ]
  },
  {
   "cell_type": "code",
   "execution_count": 23,
   "metadata": {
    "id": "vGjZ9yIDWrze"
   },
   "outputs": [],
   "source": [
    "from collections import defaultdict\n",
    "\n",
    "class Graph:\n",
    "    def __init__(self):\n",
    "        self.graph = defaultdict(list)\n",
    "    def loadmaze(self,k,v):\n",
    "        self.graph[k]=v\n",
    "        \n",
    "    # Depth first search\n",
    "    def dfs(self,start,end):\n",
    "        visited = set()\n",
    "        stack = [start]\n",
    "        while len(stack) > 0:\n",
    "            s = stack.pop()\n",
    "            if s not in visited:\n",
    "                print(s,end=\" \")\n",
    "                visited.add(s)\n",
    "                if s == end:\n",
    "                    break\n",
    "                for neighbour in self.graph[s]:\n",
    "                    if neighbour not in visited:\n",
    "                        stack.append(neighbour)\n",
    "    \n",
    "    # Breadth first search\n",
    "    def bfs(self,start,end):\n",
    "        visited = set()\n",
    "        queue = list()\n",
    "        visited.add(start)\n",
    "        queue.append(start)        \n",
    "        while queue:\n",
    "            s = queue.pop(0)\n",
    "            print(s, end=\" \")  \n",
    "            if s == end:\n",
    "                break\n",
    "            for neighbour in self.graph[s]:\n",
    "                if neighbour not in visited:\n",
    "                    visited.add(neighbour)\n",
    "                    queue.append(neighbour)"
   ]
  },
  {
   "cell_type": "code",
   "execution_count": 24,
   "metadata": {
    "id": "iNyBq9dnfFpz"
   },
   "outputs": [],
   "source": [
    "# Creating graph and loading values\n",
    "g = Graph()\n",
    "g.loadmaze(0,[2])\n",
    "g.loadmaze(1,[1])\n",
    "g.loadmaze(2,[3,1,0])\n",
    "g.loadmaze(3,[4,6,2])\n",
    "g.loadmaze(4,[10,5,3])\n",
    "g.loadmaze(5,[4])\n",
    "g.loadmaze(6,[8,7,3])\n",
    "g.loadmaze(7,[6])\n",
    "g.loadmaze(8,[9,14,6])\n",
    "g.loadmaze(9,[8])\n",
    "g.loadmaze(10,[11,12,4])\n",
    "g.loadmaze(11,[10])\n",
    "g.loadmaze(12,[13,19,10])\n",
    "g.loadmaze(13,[12,14,18])\n",
    "g.loadmaze(14,[13,15,8])\n",
    "g.loadmaze(15,[16,17,14])\n",
    "g.loadmaze(16,[15])\n",
    "g.loadmaze(17,[23,18,15])\n",
    "g.loadmaze(18,[17,21,13])\n",
    "g.loadmaze(19,[20,21,12])\n",
    "g.loadmaze(20,[19])\n",
    "g.loadmaze(21,[18,22,19])\n",
    "g.loadmaze(22,[21])\n",
    "g.loadmaze(23,[17])"
   ]
  },
  {
   "cell_type": "code",
   "execution_count": 26,
   "metadata": {
    "colab": {
     "base_uri": "https://localhost:8080/"
    },
    "id": "3TZRTuR3fJ0S",
    "outputId": "350d1e9d-af51-4ce1-b644-743438b8970d"
   },
   "outputs": [
    {
     "name": "stdout",
     "output_type": "stream",
     "text": [
      "0 2 1 3 6 7 8 14 15 17 18 13 12 10 4 5 11 19 21 22 20 23 \n",
      "0 2 3 1 4 6 10 5 8 7 11 12 9 14 13 19 15 18 20 21 16 17 22 23 "
     ]
    }
   ],
   "source": [
    "# Path using DFS\n",
    "g.dfs(0,23)\n",
    "print(\"\")\n",
    "\n",
    "#Path using BFS\n",
    "g.bfs(0,23)"
   ]
  }
 ],
 "metadata": {
  "colab": {
   "name": "Maze Problem.ipynb",
   "provenance": []
  },
  "kernelspec": {
   "display_name": "Python 3 (ipykernel)",
   "language": "python",
   "name": "python3"
  },
  "language_info": {
   "codemirror_mode": {
    "name": "ipython",
    "version": 3
   },
   "file_extension": ".py",
   "mimetype": "text/x-python",
   "name": "python",
   "nbconvert_exporter": "python",
   "pygments_lexer": "ipython3",
   "version": "3.8.8"
  }
 },
 "nbformat": 4,
 "nbformat_minor": 1
}
