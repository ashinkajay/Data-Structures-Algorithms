{
 "cells": [
  {
   "cell_type": "markdown",
   "id": "fc4c82fa",
   "metadata": {},
   "source": [
    "### 0/1 Knapsack problem using dynamic programming"
   ]
  },
  {
   "cell_type": "raw",
   "id": "af7e6ae0",
   "metadata": {},
   "source": [
    "Example problem\n",
    "A thief enters a house for robbing it. He can carry a maximal weight of 5 kg into his bag. There are 4 items in the house with the following weights and values. What items should thief take if he either takes the item completely or leaves it completely?\n",
    "\n",
    "Given data:\n",
    "\n",
    "Item\t      Weight (kg)\tValue ($)\n",
    "Mirror\t         2\t          3\n",
    "Silver nugget\t 3\t          4\n",
    "Painting\t     4\t          5\n",
    "Vase\t         5\t          6\n",
    "\n"
   ]
  },
  {
   "cell_type": "code",
   "execution_count": 1,
   "id": "a472b1a6",
   "metadata": {},
   "outputs": [
    {
     "name": "stdout",
     "output_type": "stream",
     "text": [
      "[[0 0 0 0 0 0]\n",
      " [0 0 3 3 3 3]\n",
      " [0 0 3 4 4 7]\n",
      " [0 0 3 4 5 7]\n",
      " [0 0 3 4 5 7]]\n",
      "\n",
      "Maximum value:  7\n"
     ]
    }
   ],
   "source": [
    "import numpy as np\n",
    "w = [2,3,4,5] #Given weights\n",
    "v = [3,4,5,6] #Given value for each item\n",
    "objects = [\"Mirror\", \"Silver nugget\", \"Painting\", \"Vase\"]\n",
    "W = 5 # Given capacity\n",
    "n = len(w)\n",
    "V = np.zeros((n+1,W+1),dtype=int)\n",
    "for i in range(1,n+1):\n",
    "    for j in range(1,W+1):\n",
    "        if j - w[i-1] >= 0:\n",
    "            V[i,j] = max(V[i-1,j], v[i-1] + V[i-1,  j-w[i-1]])\n",
    "        else:\n",
    "            V[i,j] = V[i-1,j]\n",
    "print(V)\n",
    "print(\"\\nMaximum value: \",V[n,W])"
   ]
  },
  {
   "cell_type": "code",
   "execution_count": 2,
   "id": "0e66d1b6",
   "metadata": {},
   "outputs": [
    {
     "name": "stdout",
     "output_type": "stream",
     "text": [
      "Items to select:  ['Silver nugget', 'Mirror']\n"
     ]
    }
   ],
   "source": [
    "items = []\n",
    "j = W\n",
    "for i in range(n,0,-1):\n",
    "    if V[i,j] > V[i-1,j]:\n",
    "        items.append(objects[i-1])\n",
    "        j = j - w[i-1]\n",
    "print(\"Items to select: \", items)"
   ]
  }
 ],
 "metadata": {
  "kernelspec": {
   "display_name": "Python 3 (ipykernel)",
   "language": "python",
   "name": "python3"
  },
  "language_info": {
   "codemirror_mode": {
    "name": "ipython",
    "version": 3
   },
   "file_extension": ".py",
   "mimetype": "text/x-python",
   "name": "python",
   "nbconvert_exporter": "python",
   "pygments_lexer": "ipython3",
   "version": "3.8.8"
  }
 },
 "nbformat": 4,
 "nbformat_minor": 5
}
