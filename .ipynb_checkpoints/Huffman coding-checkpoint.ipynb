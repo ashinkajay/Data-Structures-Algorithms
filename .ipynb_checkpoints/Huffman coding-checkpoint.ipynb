{
 "cells": [
  {
   "cell_type": "code",
   "execution_count": 52,
   "id": "8b2bfbdd",
   "metadata": {},
   "outputs": [
    {
     "name": "stdout",
     "output_type": "stream",
     "text": [
      "Y 00\n",
      "V 01\n",
      "Z 100\n",
      "X 101\n",
      "W 11\n"
     ]
    }
   ],
   "source": [
    "class node:\n",
    "    def __init__(self, freq, symbol, left=None, right=None):\n",
    "        self.freq = freq\n",
    "        self.symbol = symbol\n",
    "        self.left = left\n",
    "        self.right = right\n",
    "        self.huff = ''\n",
    "\n",
    "def printNodes(node, val=''):\n",
    "    newVal = val + str(node.huff)\n",
    "    if(node.left):\n",
    "        printNodes(node.left, newVal)\n",
    "    if(node.right):\n",
    "        printNodes(node.right, newVal)\n",
    "    if(not node.left and not node.right):\n",
    "        print(node.symbol,newVal)\n",
    "\n",
    "# Let's say, we are given the below charecters with their occurances\n",
    "chars = {'V':22, 'W':34, 'X':17, 'Y': 19, 'Z':8}\n",
    "\n",
    "nodes = []\n",
    "\n",
    "for x in chars.items():\n",
    "    nodes.append(node(x[1],x[0]))\n",
    "\n",
    "while len(nodes) > 1:\n",
    "    nodes = sorted(nodes, key=lambda x: x.freq)\n",
    "\n",
    "    left = nodes[0]\n",
    "    right = nodes[1]\n",
    "\n",
    "    left.huff = 0\n",
    "    right.huff = 1\n",
    "\n",
    "    newNode = node(left.freq+right.freq, left.symbol+right.symbol, left, right)\n",
    "\n",
    "    nodes.remove(left)\n",
    "    nodes.remove(right)\n",
    "    nodes.append(newNode)\n",
    "\n",
    "printNodes(nodes[0])"
   ]
  }
 ],
 "metadata": {
  "kernelspec": {
   "display_name": "Python 3 (ipykernel)",
   "language": "python",
   "name": "python3"
  },
  "language_info": {
   "codemirror_mode": {
    "name": "ipython",
    "version": 3
   },
   "file_extension": ".py",
   "mimetype": "text/x-python",
   "name": "python",
   "nbconvert_exporter": "python",
   "pygments_lexer": "ipython3",
   "version": "3.8.8"
  }
 },
 "nbformat": 4,
 "nbformat_minor": 5
}
