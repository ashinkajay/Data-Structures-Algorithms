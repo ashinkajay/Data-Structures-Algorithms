{
 "cells": [
  {
   "cell_type": "code",
   "execution_count": 2,
   "id": "2b9ad318",
   "metadata": {},
   "outputs": [],
   "source": [
    "class Stack:\n",
    "    def __init__(self,size):\n",
    "      self.stack = []\n",
    "      self.size = size\n",
    "    def push(self, element):\n",
    "        if self.size==len(self.stack):\n",
    "           print(\"Overflow\")\n",
    "        else:\n",
    "            self.stack.append(element)\n",
    "    def isempty(self):\n",
    "        if len(self.stack)==0:\n",
    "            return True\n",
    "        else:\n",
    "            return False\n",
    "    def pop(self):\n",
    "        if len(self.stack) > 0:\n",
    "            element = self.stack.pop()\n",
    "            return element\n",
    "        else:\n",
    "            print(\"Underflow\")\n",
    "            return False\n",
    "    def length(self):\n",
    "        return len(self.stack)\n",
    "    def top(self):\n",
    "        length=len(self.stack)\n",
    "        if length==0:\n",
    "            print(\"Stack is empty\")\n",
    "            return None\n",
    "        else:\n",
    "            return self.stack[length-1]\n",
    "\n"
   ]
  },
  {
   "cell_type": "code",
   "execution_count": 6,
   "id": "d7d2f583",
   "metadata": {},
   "outputs": [
    {
     "name": "stdout",
     "output_type": "stream",
     "text": [
      "Overflow\n",
      "top element is 3\n"
     ]
    }
   ],
   "source": [
    "x = Stack(3) #Size is 3\n",
    "x.push(1)\n",
    "x.push(2)\n",
    "x.push(3)\n",
    "x.push(4)\n",
    "\n",
    "print(\"top element is\",x.top())"
   ]
  },
  {
   "cell_type": "code",
   "execution_count": null,
   "id": "91bb42cc",
   "metadata": {},
   "outputs": [],
   "source": []
  }
 ],
 "metadata": {
  "kernelspec": {
   "display_name": "Python 3 (ipykernel)",
   "language": "python",
   "name": "python3"
  },
  "language_info": {
   "codemirror_mode": {
    "name": "ipython",
    "version": 3
   },
   "file_extension": ".py",
   "mimetype": "text/x-python",
   "name": "python",
   "nbconvert_exporter": "python",
   "pygments_lexer": "ipython3",
   "version": "3.8.8"
  }
 },
 "nbformat": 4,
 "nbformat_minor": 5
}
