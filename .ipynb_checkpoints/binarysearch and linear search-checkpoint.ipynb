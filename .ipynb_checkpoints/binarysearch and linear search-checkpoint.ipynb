{
 "cells": [
  {
   "cell_type": "code",
   "execution_count": 1,
   "id": "1128442d",
   "metadata": {},
   "outputs": [],
   "source": [
    "def binarysearch(array,element):\n",
    "    start = 0\n",
    "    end = len(array)-1\n",
    "    while start <= end:\n",
    "        mid = (start+end) // 2\n",
    "        if element < array[mid]:\n",
    "            end = mid - 1\n",
    "        elif element > array[mid]:\n",
    "            start = mid +1\n",
    "        else:\n",
    "            return mid\n",
    "    return -1\n",
    "\n",
    "def linearsearch(arr, e):\n",
    "    for i in range(len(arr)):\n",
    "        if arr[i] == e:\n",
    "            return i\n",
    "    return -1\n",
    "\n"
   ]
  },
  {
   "cell_type": "code",
   "execution_count": 3,
   "id": "441fb821",
   "metadata": {},
   "outputs": [
    {
     "name": "stdout",
     "output_type": "stream",
     "text": [
      "binary search 4\n",
      "linear search 4\n"
     ]
    }
   ],
   "source": [
    "arr = [0,1,2,3,4,5,6,7,8]\n",
    "print(\"binary search\",binarysearch(arr,4))\n",
    "print(\"linear search\",linearsearch(arr,4))"
   ]
  }
 ],
 "metadata": {
  "kernelspec": {
   "display_name": "Python 3 (ipykernel)",
   "language": "python",
   "name": "python3"
  },
  "language_info": {
   "codemirror_mode": {
    "name": "ipython",
    "version": 3
   },
   "file_extension": ".py",
   "mimetype": "text/x-python",
   "name": "python",
   "nbconvert_exporter": "python",
   "pygments_lexer": "ipython3",
   "version": "3.8.8"
  }
 },
 "nbformat": 4,
 "nbformat_minor": 5
}
