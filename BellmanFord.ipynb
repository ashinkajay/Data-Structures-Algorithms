{
  "cells": [
    {
      "cell_type": "markdown",
      "id": "dc85eae4",
      "metadata": {
        "id": "dc85eae4"
      },
      "source": [
        "## Bellman-ford Algorithm & Negetive cycle detection"
      ]
    },
    {
      "cell_type": "code",
      "execution_count": null,
      "id": "49d8ec57",
      "metadata": {
        "id": "49d8ec57"
      },
      "outputs": [],
      "source": [
        "# Class definition\n",
        "import numpy as np\n",
        "class Graph:\n",
        "    vertices = []\n",
        "    graph = np.array([])\n",
        "    def addVertex(self,v):\n",
        "        if v not in self.vertices:\n",
        "            self.vertices.append(v)\n",
        "    def buildGraph(self):\n",
        "        n = len(self.vertices)\n",
        "        self.graph = np.ones((n,n))\n",
        "        self.graph = self.graph * float('inf')\n",
        "    def addEdge(self,v1,v2,e):\n",
        "        self.graph[self.vertices.index(v1),self.vertices.index(v2)] = e\n",
        "    def bellmanFord(self,start,end):\n",
        "        n = len(self.vertices)\n",
        "        startIndex = self.vertices.index(start)\n",
        "        endIndex = self.vertices.index(end)\n",
        "        edges = []\n",
        "        for i in range(n):\n",
        "            for j in range(n):\n",
        "                if self.graph[i,j] != float('inf'):\n",
        "                    edges.append((i,j))\n",
        "        # Bellman-Ford Algorithm\n",
        "        res = [float('inf')] * n\n",
        "        res[startIndex] = 0\n",
        "        # Actually only n-1 iterations is required, but for checking cycle doing n iterations\n",
        "        for i in range(n):\n",
        "            changeHappened = False\n",
        "            for u,v in edges:\n",
        "                if (res[u]+self.graph[u,v]) < res[v] :\n",
        "                    res[v] = res[u]+self.graph[u,v]\n",
        "                    changeHappened = True\n",
        "            if changeHappened == False:\n",
        "                break\n",
        "        if changeHappened == True:\n",
        "            print(\"Negetive cycle exists.\")\n",
        "        else:\n",
        "            print(\"Result of Bellman-Ford Algorithm:\",res)\n",
        "            print(\"Distance from\",start,\"to\",end,\":\",res[endIndex])"
      ]
    },
    {
      "cell_type": "markdown",
      "source": [
        "### Sample graph\n",
        "\n",
        "![Question.jpeg](data:image/jpeg;base64,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)"
      ],
      "metadata": {
        "id": "4xBlnaBTf5Gg"
      },
      "id": "4xBlnaBTf5Gg"
    },
    {
      "cell_type": "markdown",
      "id": "505413cf",
      "metadata": {
        "id": "505413cf"
      },
      "source": [
        "### Initialising graph and adding edges"
      ]
    },
    {
      "cell_type": "code",
      "execution_count": null,
      "id": "f885a27c",
      "metadata": {
        "id": "f885a27c",
        "outputId": "45a9e5d8-8c66-45c8-b7cb-08f56b6f5759"
      },
      "outputs": [
        {
          "name": "stdout",
          "output_type": "stream",
          "text": [
            "Vertices\n",
            "['s', 't', 'x', 'y', 'z']\n",
            "\n",
            "Graph\n",
            "[[inf  6. inf  7. inf]\n",
            " [inf inf  5.  8. -4.]\n",
            " [inf -2. inf inf inf]\n",
            " [inf inf -3. inf  9.]\n",
            " [ 2. inf  7. inf inf]]\n"
          ]
        }
      ],
      "source": [
        "# Initialising graph\n",
        "del g\n",
        "g = Graph()\n",
        "g.addVertex(\"s\")\n",
        "g.addVertex(\"t\")\n",
        "g.addVertex(\"x\")\n",
        "g.addVertex(\"y\")\n",
        "g.addVertex(\"z\")\n",
        "g.buildGraph()\n",
        "\n",
        "# Adding edges\n",
        "g.addEdge(\"s\",\"t\",6)\n",
        "g.addEdge(\"s\",\"y\",7)\n",
        "g.addEdge(\"t\",\"y\",8)\n",
        "g.addEdge(\"t\",\"x\",5)\n",
        "g.addEdge(\"t\",\"z\",-4)\n",
        "g.addEdge(\"x\",\"t\",-2)\n",
        "g.addEdge(\"y\",\"x\",-3)\n",
        "g.addEdge(\"y\",\"z\",9)\n",
        "g.addEdge(\"z\",\"s\",2)\n",
        "g.addEdge(\"z\",\"x\",7)\n",
        "print(\"Vertices\")\n",
        "print(g.vertices)\n",
        "print(\"\\nGraph\")\n",
        "print(g.graph)"
      ]
    },
    {
      "cell_type": "markdown",
      "id": "bd9d3e4d",
      "metadata": {
        "id": "bd9d3e4d"
      },
      "source": [
        "### Result of Bellman-Ford Algorithm"
      ]
    },
    {
      "cell_type": "code",
      "execution_count": null,
      "id": "ae54d240",
      "metadata": {
        "id": "ae54d240",
        "outputId": "d7fc03c1-a4d7-48a5-f36e-d91be2ec6ecc"
      },
      "outputs": [
        {
          "name": "stdout",
          "output_type": "stream",
          "text": [
            "Result of Bellman-Ford Algorithm: [0, 2.0, 4.0, 7.0, -2.0]\n",
            "Distance from s to z : -2.0\n"
          ]
        }
      ],
      "source": [
        "g.bellmanFord('s','z')"
      ]
    }
  ],
  "metadata": {
    "kernelspec": {
      "display_name": "Python 3 (ipykernel)",
      "language": "python",
      "name": "python3"
    },
    "language_info": {
      "codemirror_mode": {
        "name": "ipython",
        "version": 3
      },
      "file_extension": ".py",
      "mimetype": "text/x-python",
      "name": "python",
      "nbconvert_exporter": "python",
      "pygments_lexer": "ipython3",
      "version": "3.8.8"
    },
    "colab": {
      "name": "BellmanFord.ipynb",
      "provenance": []
    }
  },
  "nbformat": 4,
  "nbformat_minor": 5
}