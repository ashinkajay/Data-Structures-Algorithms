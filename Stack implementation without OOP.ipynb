{
 "cells": [
  {
   "cell_type": "code",
   "execution_count": 1,
   "id": "af8b3e4a",
   "metadata": {},
   "outputs": [
    {
     "name": "stdout",
     "output_type": "stream",
     "text": [
      "5\n"
     ]
    }
   ],
   "source": [
    "def isempty(stack):\n",
    "    if len(stack)==0:\n",
    "        return True\n",
    "    else:\n",
    "        return False\n",
    "\n",
    "def push(stack, element):\n",
    "    stack.append(element)\n",
    "\n",
    "def pop(stack):\n",
    "    if len(stack) > 0:\n",
    "        element = stack.pop()\n",
    "        return element\n",
    "    else:\n",
    "        return False\n",
    "\n",
    "def length(stack):\n",
    "    return len(stack)\n",
    "\n",
    "def top(stack):\n",
    "    length=len(stack)\n",
    "    if length==0:\n",
    "        print(\"Stack is empty\")\n",
    "        return None\n",
    "    else:\n",
    "        return stack[length-1]\n",
    "\n",
    "\n",
    "x=[1,2,3,4,5]\n",
    "print(top(x))"
   ]
  }
 ],
 "metadata": {
  "kernelspec": {
   "display_name": "Python 3 (ipykernel)",
   "language": "python",
   "name": "python3"
  },
  "language_info": {
   "codemirror_mode": {
    "name": "ipython",
    "version": 3
   },
   "file_extension": ".py",
   "mimetype": "text/x-python",
   "name": "python",
   "nbconvert_exporter": "python",
   "pygments_lexer": "ipython3",
   "version": "3.8.8"
  }
 },
 "nbformat": 4,
 "nbformat_minor": 5
}
