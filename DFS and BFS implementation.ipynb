{
 "cells": [
  {
   "cell_type": "code",
   "execution_count": 63,
   "id": "3d72e475",
   "metadata": {},
   "outputs": [],
   "source": [
    "from collections import defaultdict\n",
    "\n",
    "class Graph:\n",
    "    def __init__(self):\n",
    "        self.graph = defaultdict(list)\n",
    "    def addedge(self,k,v):\n",
    "        self.graph[k].append(v)\n",
    "        \n",
    "    # Depth first search\n",
    "    def dfs_traverse(self,k,visited):\n",
    "        visited.add(k)\n",
    "        print(k, end = \" \")\n",
    "        \n",
    "        for neighbour in self.graph[k]:\n",
    "            if neighbour not in visited:\n",
    "                self.dfs_traverse(neighbour,visited)\n",
    "    def dfs(self,k):\n",
    "        visited = set()\n",
    "        self.dfs_traverse(k,visited)\n",
    "    \n",
    "    # Breadth first search\n",
    "    def bfs_traverse(self,k,visited,queue):\n",
    "        visited.add(k)\n",
    "        queue.append(k)        \n",
    "        while queue:\n",
    "            s = queue.pop(0)\n",
    "            print(s, end=\" \")            \n",
    "            for neighbour in self.graph[s]:\n",
    "                if neighbour not in visited:\n",
    "                    visited.add(neighbour)\n",
    "                    queue.append(neighbour)\n",
    "    def bfs(self,k):\n",
    "        visited = set()\n",
    "        queue = list()\n",
    "        self.bfs_traverse(k,visited,queue)"
   ]
  },
  {
   "cell_type": "code",
   "execution_count": 65,
   "id": "56e5d9b9",
   "metadata": {},
   "outputs": [],
   "source": [
    "g = Graph()\n",
    "g.addedge(0, 1)\n",
    "g.addedge(0, 2)\n",
    "g.addedge(0, 4)\n",
    "g.addedge(1, 2)\n",
    "g.addedge(2, 0)\n",
    "g.addedge(2, 3)\n",
    "g.addedge(3, 3)\n",
    "\n"
   ]
  },
  {
   "cell_type": "code",
   "execution_count": 68,
   "id": "40b7d01f",
   "metadata": {},
   "outputs": [
    {
     "name": "stdout",
     "output_type": "stream",
     "text": [
      "0 1 2 3 4 "
     ]
    }
   ],
   "source": [
    "g.dfs(0)"
   ]
  },
  {
   "cell_type": "code",
   "execution_count": 69,
   "id": "3aece913",
   "metadata": {},
   "outputs": [
    {
     "name": "stdout",
     "output_type": "stream",
     "text": [
      "0 1 2 4 3 "
     ]
    }
   ],
   "source": [
    "g.bfs(0)"
   ]
  }
 ],
 "metadata": {
  "kernelspec": {
   "display_name": "Python 3 (ipykernel)",
   "language": "python",
   "name": "python3"
  },
  "language_info": {
   "codemirror_mode": {
    "name": "ipython",
    "version": 3
   },
   "file_extension": ".py",
   "mimetype": "text/x-python",
   "name": "python",
   "nbconvert_exporter": "python",
   "pygments_lexer": "ipython3",
   "version": "3.8.8"
  }
 },
 "nbformat": 4,
 "nbformat_minor": 5
}
